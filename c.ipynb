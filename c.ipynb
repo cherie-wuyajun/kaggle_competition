{
 "cells": [
  {
   "cell_type": "code",
   "execution_count": 1,
   "metadata": {
    "collapsed": true
   },
   "outputs": [],
   "source": [
    "import pandas as pd\n",
    "import matplotlib.pyplot as plt\n",
    "import numpy as np\n",
    "import seaborn as sns\n",
    "import datetime\n",
    "import time\n",
    "import warnings\n",
    "warnings.filterwarnings('ignore')\n",
    "pd.set_option('display.max_columns', None)"
   ]
  },
  {
   "cell_type": "code",
   "execution_count": 2,
   "metadata": {
    "collapsed": true
   },
   "outputs": [],
   "source": [
    "user_behavior_logs = pd.read_csv('dataset/user_behavior_logs.csv', parse_dates=['behavior_time'])"
   ]
  },
  {
   "cell_type": "code",
   "execution_count": 14,
   "metadata": {
    "collapsed": true
   },
   "outputs": [],
   "source": [
    "df=user_behavior_logs.iloc[1002121:1042121,:]"
   ]
  },
  {
   "cell_type": "code",
   "execution_count": 16,
   "metadata": {},
   "outputs": [
    {
     "data": {
      "text/html": [
       "<div>\n",
       "<style scoped>\n",
       "    .dataframe tbody tr th:only-of-type {\n",
       "        vertical-align: middle;\n",
       "    }\n",
       "\n",
       "    .dataframe tbody tr th {\n",
       "        vertical-align: top;\n",
       "    }\n",
       "\n",
       "    .dataframe thead th {\n",
       "        text-align: right;\n",
       "    }\n",
       "</style>\n",
       "<table border=\"1\" class=\"dataframe\">\n",
       "  <thead>\n",
       "    <tr style=\"text-align: right;\">\n",
       "      <th></th>\n",
       "      <th>user_id</th>\n",
       "      <th>behavior_type</th>\n",
       "    </tr>\n",
       "  </thead>\n",
       "  <tbody>\n",
       "    <tr>\n",
       "      <th>count</th>\n",
       "      <td>40000.000000</td>\n",
       "      <td>40000.000000</td>\n",
       "    </tr>\n",
       "    <tr>\n",
       "      <th>mean</th>\n",
       "      <td>426515.469000</td>\n",
       "      <td>1.267075</td>\n",
       "    </tr>\n",
       "    <tr>\n",
       "      <th>std</th>\n",
       "      <td>257012.135615</td>\n",
       "      <td>0.666339</td>\n",
       "    </tr>\n",
       "    <tr>\n",
       "      <th>min</th>\n",
       "      <td>42.000000</td>\n",
       "      <td>1.000000</td>\n",
       "    </tr>\n",
       "    <tr>\n",
       "      <th>25%</th>\n",
       "      <td>206322.000000</td>\n",
       "      <td>1.000000</td>\n",
       "    </tr>\n",
       "    <tr>\n",
       "      <th>50%</th>\n",
       "      <td>413016.000000</td>\n",
       "      <td>1.000000</td>\n",
       "    </tr>\n",
       "    <tr>\n",
       "      <th>75%</th>\n",
       "      <td>644355.000000</td>\n",
       "      <td>1.000000</td>\n",
       "    </tr>\n",
       "    <tr>\n",
       "      <th>max</th>\n",
       "      <td>927366.000000</td>\n",
       "      <td>3.000000</td>\n",
       "    </tr>\n",
       "  </tbody>\n",
       "</table>\n",
       "</div>"
      ],
      "text/plain": [
       "             user_id  behavior_type\n",
       "count   40000.000000   40000.000000\n",
       "mean   426515.469000       1.267075\n",
       "std    257012.135615       0.666339\n",
       "min        42.000000       1.000000\n",
       "25%    206322.000000       1.000000\n",
       "50%    413016.000000       1.000000\n",
       "75%    644355.000000       1.000000\n",
       "max    927366.000000       3.000000"
      ]
     },
     "execution_count": 16,
     "metadata": {},
     "output_type": "execute_result"
    }
   ],
   "source": [
    "df.describe()"
   ]
  },
  {
   "cell_type": "code",
   "execution_count": 17,
   "metadata": {},
   "outputs": [
    {
     "data": {
      "text/html": [
       "<div>\n",
       "<style scoped>\n",
       "    .dataframe tbody tr th:only-of-type {\n",
       "        vertical-align: middle;\n",
       "    }\n",
       "\n",
       "    .dataframe tbody tr th {\n",
       "        vertical-align: top;\n",
       "    }\n",
       "\n",
       "    .dataframe thead th {\n",
       "        text-align: right;\n",
       "    }\n",
       "</style>\n",
       "<table border=\"1\" class=\"dataframe\">\n",
       "  <thead>\n",
       "    <tr style=\"text-align: right;\">\n",
       "      <th></th>\n",
       "      <th>user_id</th>\n",
       "      <th>behavior_type</th>\n",
       "    </tr>\n",
       "  </thead>\n",
       "  <tbody>\n",
       "    <tr>\n",
       "      <th>count</th>\n",
       "      <td>5.578127e+07</td>\n",
       "      <td>5.578127e+07</td>\n",
       "    </tr>\n",
       "    <tr>\n",
       "      <th>mean</th>\n",
       "      <td>4.476705e+05</td>\n",
       "      <td>1.423350e+00</td>\n",
       "    </tr>\n",
       "    <tr>\n",
       "      <th>std</th>\n",
       "      <td>2.640589e+05</td>\n",
       "      <td>8.058602e-01</td>\n",
       "    </tr>\n",
       "    <tr>\n",
       "      <th>min</th>\n",
       "      <td>1.000000e+00</td>\n",
       "      <td>1.000000e+00</td>\n",
       "    </tr>\n",
       "    <tr>\n",
       "      <th>25%</th>\n",
       "      <td>2.188900e+05</td>\n",
       "      <td>1.000000e+00</td>\n",
       "    </tr>\n",
       "    <tr>\n",
       "      <th>50%</th>\n",
       "      <td>4.408320e+05</td>\n",
       "      <td>1.000000e+00</td>\n",
       "    </tr>\n",
       "    <tr>\n",
       "      <th>75%</th>\n",
       "      <td>6.757630e+05</td>\n",
       "      <td>1.000000e+00</td>\n",
       "    </tr>\n",
       "    <tr>\n",
       "      <th>max</th>\n",
       "      <td>9.281950e+05</td>\n",
       "      <td>3.000000e+00</td>\n",
       "    </tr>\n",
       "  </tbody>\n",
       "</table>\n",
       "</div>"
      ],
      "text/plain": [
       "            user_id  behavior_type\n",
       "count  5.578127e+07   5.578127e+07\n",
       "mean   4.476705e+05   1.423350e+00\n",
       "std    2.640589e+05   8.058602e-01\n",
       "min    1.000000e+00   1.000000e+00\n",
       "25%    2.188900e+05   1.000000e+00\n",
       "50%    4.408320e+05   1.000000e+00\n",
       "75%    6.757630e+05   1.000000e+00\n",
       "max    9.281950e+05   3.000000e+00"
      ]
     },
     "execution_count": 17,
     "metadata": {},
     "output_type": "execute_result"
    }
   ],
   "source": [
    "user_behavior_logs.describe()"
   ]
  },
  {
   "cell_type": "code",
   "execution_count": 19,
   "metadata": {
    "collapsed": true
   },
   "outputs": [],
   "source": [
    "behavior_time=df['behavior_time']"
   ]
  },
  {
   "cell_type": "code",
   "execution_count": 20,
   "metadata": {},
   "outputs": [
    {
     "data": {
      "text/plain": [
       "<matplotlib.axes._subplots.AxesSubplot at 0x1a34f932b0>"
      ]
     },
     "execution_count": 20,
     "metadata": {},
     "output_type": "execute_result"
    },
    {
     "data": {
      "image/png": "[encoded data removed]",
      "text/plain": [
       "<Figure size 432x288 with 1 Axes>"
      ]
     },
     "metadata": {
      "needs_background": "light"
     },
     "output_type": "display_data"
    }
   ],
   "source": [
    "behavior_time.plot()"
   ]
  },
  {
   "cell_type": "code",
   "execution_count": 21,
   "metadata": {
    "collapsed": true
   },
   "outputs": [],
   "source": [
    "behavior_time_all=user_behavior_logs['behavior_time']"
   ]
  },
  {
   "cell_type": "code",
   "execution_count": 22,
   "metadata": {},
   "outputs": [
    {
     "data": {
      "text/plain": [
       "<matplotlib.axes._subplots.AxesSubplot at 0x1b2deeb588>"
      ]
     },
     "execution_count": 22,
     "metadata": {},
     "output_type": "execute_result"
    },
    {
     "data": {
      "image/png": "[encoded data removed]",
      "text/plain": [
       "<Figure size 432x288 with 1 Axes>"
      ]
     },
     "metadata": {
      "needs_background": "light"
     },
     "output_type": "display_data"
    }
   ],
   "source": [
    "behavior_time_all.plot()"
   ]
  },
  {
   "cell_type": "code",
   "execution_count": 32,
   "metadata": {
    "collapsed": true
   },
   "outputs": [],
   "source": [
    "user_behavior_logs['weekday'] = user_behavior_logs['behavior_time'].dt.dayofweek"
   ]
  },
  {
   "cell_type": "code",
   "execution_count": 33,
   "metadata": {},
   "outputs": [
    {
     "data": {
      "text/html": [
       "<div>\n",
       "<style scoped>\n",
       "    .dataframe tbody tr th:only-of-type {\n",
       "        vertical-align: middle;\n",
       "    }\n",
       "\n",
       "    .dataframe tbody tr th {\n",
       "        vertical-align: top;\n",
       "    }\n",
       "\n",
       "    .dataframe thead th {\n",
       "        text-align: right;\n",
       "    }\n",
       "</style>\n",
       "<table border=\"1\" class=\"dataframe\">\n",
       "  <thead>\n",
       "    <tr style=\"text-align: right;\">\n",
       "      <th></th>\n",
       "      <th>user_id</th>\n",
       "      <th>behavior_time</th>\n",
       "      <th>behavior_type</th>\n",
       "      <th>weekday</th>\n",
       "    </tr>\n",
       "  </thead>\n",
       "  <tbody>\n",
       "    <tr>\n",
       "      <th>0</th>\n",
       "      <td>842439</td>\n",
       "      <td>2018-09-13 23:17:21</td>\n",
       "      <td>3</td>\n",
       "      <td>3</td>\n",
       "    </tr>\n",
       "    <tr>\n",
       "      <th>1</th>\n",
       "      <td>842439</td>\n",
       "      <td>2018-09-13 23:17:21</td>\n",
       "      <td>3</td>\n",
       "      <td>3</td>\n",
       "    </tr>\n",
       "    <tr>\n",
       "      <th>2</th>\n",
       "      <td>905214</td>\n",
       "      <td>2018-09-13 15:19:30</td>\n",
       "      <td>3</td>\n",
       "      <td>3</td>\n",
       "    </tr>\n",
       "    <tr>\n",
       "      <th>3</th>\n",
       "      <td>905214</td>\n",
       "      <td>2018-09-13 15:19:30</td>\n",
       "      <td>3</td>\n",
       "      <td>3</td>\n",
       "    </tr>\n",
       "    <tr>\n",
       "      <th>4</th>\n",
       "      <td>842439</td>\n",
       "      <td>2018-09-13 23:17:21</td>\n",
       "      <td>3</td>\n",
       "      <td>3</td>\n",
       "    </tr>\n",
       "    <tr>\n",
       "      <th>5</th>\n",
       "      <td>842439</td>\n",
       "      <td>2018-09-13 23:17:21</td>\n",
       "      <td>3</td>\n",
       "      <td>3</td>\n",
       "    </tr>\n",
       "    <tr>\n",
       "      <th>6</th>\n",
       "      <td>905214</td>\n",
       "      <td>2018-09-13 15:18:28</td>\n",
       "      <td>3</td>\n",
       "      <td>3</td>\n",
       "    </tr>\n",
       "    <tr>\n",
       "      <th>7</th>\n",
       "      <td>905214</td>\n",
       "      <td>2018-09-13 15:19:30</td>\n",
       "      <td>3</td>\n",
       "      <td>3</td>\n",
       "    </tr>\n",
       "    <tr>\n",
       "      <th>8</th>\n",
       "      <td>48629</td>\n",
       "      <td>2018-09-13 14:22:32</td>\n",
       "      <td>3</td>\n",
       "      <td>3</td>\n",
       "    </tr>\n",
       "    <tr>\n",
       "      <th>9</th>\n",
       "      <td>905214</td>\n",
       "      <td>2018-09-13 15:18:28</td>\n",
       "      <td>3</td>\n",
       "      <td>3</td>\n",
       "    </tr>\n",
       "    <tr>\n",
       "      <th>10</th>\n",
       "      <td>905214</td>\n",
       "      <td>2018-09-13 05:37:39</td>\n",
       "      <td>3</td>\n",
       "      <td>3</td>\n",
       "    </tr>\n",
       "    <tr>\n",
       "      <th>11</th>\n",
       "      <td>905214</td>\n",
       "      <td>2018-09-13 15:18:28</td>\n",
       "      <td>3</td>\n",
       "      <td>3</td>\n",
       "    </tr>\n",
       "    <tr>\n",
       "      <th>12</th>\n",
       "      <td>905214</td>\n",
       "      <td>2018-09-13 05:37:39</td>\n",
       "      <td>3</td>\n",
       "      <td>3</td>\n",
       "    </tr>\n",
       "    <tr>\n",
       "      <th>13</th>\n",
       "      <td>48629</td>\n",
       "      <td>2018-09-13 14:22:32</td>\n",
       "      <td>3</td>\n",
       "      <td>3</td>\n",
       "    </tr>\n",
       "    <tr>\n",
       "      <th>14</th>\n",
       "      <td>842439</td>\n",
       "      <td>2018-09-13 23:17:37</td>\n",
       "      <td>3</td>\n",
       "      <td>3</td>\n",
       "    </tr>\n",
       "    <tr>\n",
       "      <th>15</th>\n",
       "      <td>48629</td>\n",
       "      <td>2018-09-13 14:22:32</td>\n",
       "      <td>3</td>\n",
       "      <td>3</td>\n",
       "    </tr>\n",
       "    <tr>\n",
       "      <th>16</th>\n",
       "      <td>842439</td>\n",
       "      <td>2018-09-13 23:17:21</td>\n",
       "      <td>3</td>\n",
       "      <td>3</td>\n",
       "    </tr>\n",
       "    <tr>\n",
       "      <th>17</th>\n",
       "      <td>842439</td>\n",
       "      <td>2018-09-13 23:20:43</td>\n",
       "      <td>3</td>\n",
       "      <td>3</td>\n",
       "    </tr>\n",
       "    <tr>\n",
       "      <th>18</th>\n",
       "      <td>48629</td>\n",
       "      <td>2018-09-13 14:22:32</td>\n",
       "      <td>3</td>\n",
       "      <td>3</td>\n",
       "    </tr>\n",
       "    <tr>\n",
       "      <th>19</th>\n",
       "      <td>842439</td>\n",
       "      <td>2018-09-13 23:17:21</td>\n",
       "      <td>3</td>\n",
       "      <td>3</td>\n",
       "    </tr>\n",
       "    <tr>\n",
       "      <th>20</th>\n",
       "      <td>842439</td>\n",
       "      <td>2018-09-13 23:17:21</td>\n",
       "      <td>3</td>\n",
       "      <td>3</td>\n",
       "    </tr>\n",
       "    <tr>\n",
       "      <th>21</th>\n",
       "      <td>842439</td>\n",
       "      <td>2018-09-13 23:17:21</td>\n",
       "      <td>3</td>\n",
       "      <td>3</td>\n",
       "    </tr>\n",
       "    <tr>\n",
       "      <th>22</th>\n",
       "      <td>905214</td>\n",
       "      <td>2018-09-13 15:18:28</td>\n",
       "      <td>3</td>\n",
       "      <td>3</td>\n",
       "    </tr>\n",
       "    <tr>\n",
       "      <th>23</th>\n",
       "      <td>905214</td>\n",
       "      <td>2018-09-13 15:18:28</td>\n",
       "      <td>3</td>\n",
       "      <td>3</td>\n",
       "    </tr>\n",
       "    <tr>\n",
       "      <th>24</th>\n",
       "      <td>48629</td>\n",
       "      <td>2018-09-13 14:22:32</td>\n",
       "      <td>3</td>\n",
       "      <td>3</td>\n",
       "    </tr>\n",
       "    <tr>\n",
       "      <th>25</th>\n",
       "      <td>905214</td>\n",
       "      <td>2018-09-13 15:18:28</td>\n",
       "      <td>3</td>\n",
       "      <td>3</td>\n",
       "    </tr>\n",
       "    <tr>\n",
       "      <th>26</th>\n",
       "      <td>758967</td>\n",
       "      <td>2018-09-13 13:29:00</td>\n",
       "      <td>3</td>\n",
       "      <td>3</td>\n",
       "    </tr>\n",
       "    <tr>\n",
       "      <th>27</th>\n",
       "      <td>905214</td>\n",
       "      <td>2018-09-13 15:18:28</td>\n",
       "      <td>3</td>\n",
       "      <td>3</td>\n",
       "    </tr>\n",
       "    <tr>\n",
       "      <th>28</th>\n",
       "      <td>48629</td>\n",
       "      <td>2018-09-13 14:22:32</td>\n",
       "      <td>3</td>\n",
       "      <td>3</td>\n",
       "    </tr>\n",
       "    <tr>\n",
       "      <th>29</th>\n",
       "      <td>842439</td>\n",
       "      <td>2018-09-13 23:20:43</td>\n",
       "      <td>3</td>\n",
       "      <td>3</td>\n",
       "    </tr>\n",
       "    <tr>\n",
       "      <th>...</th>\n",
       "      <td>...</td>\n",
       "      <td>...</td>\n",
       "      <td>...</td>\n",
       "      <td>...</td>\n",
       "    </tr>\n",
       "    <tr>\n",
       "      <th>55781241</th>\n",
       "      <td>62140</td>\n",
       "      <td>2018-03-26 17:52:00</td>\n",
       "      <td>1</td>\n",
       "      <td>0</td>\n",
       "    </tr>\n",
       "    <tr>\n",
       "      <th>55781242</th>\n",
       "      <td>159459</td>\n",
       "      <td>2018-03-26 16:59:13</td>\n",
       "      <td>1</td>\n",
       "      <td>0</td>\n",
       "    </tr>\n",
       "    <tr>\n",
       "      <th>55781243</th>\n",
       "      <td>245093</td>\n",
       "      <td>2018-03-26 16:25:01</td>\n",
       "      <td>1</td>\n",
       "      <td>0</td>\n",
       "    </tr>\n",
       "    <tr>\n",
       "      <th>55781244</th>\n",
       "      <td>184798</td>\n",
       "      <td>2018-03-26 14:59:06</td>\n",
       "      <td>1</td>\n",
       "      <td>0</td>\n",
       "    </tr>\n",
       "    <tr>\n",
       "      <th>55781245</th>\n",
       "      <td>682962</td>\n",
       "      <td>2018-03-26 14:50:40</td>\n",
       "      <td>1</td>\n",
       "      <td>0</td>\n",
       "    </tr>\n",
       "    <tr>\n",
       "      <th>55781246</th>\n",
       "      <td>817800</td>\n",
       "      <td>2018-03-26 13:15:29</td>\n",
       "      <td>1</td>\n",
       "      <td>0</td>\n",
       "    </tr>\n",
       "    <tr>\n",
       "      <th>55781247</th>\n",
       "      <td>62421</td>\n",
       "      <td>2018-03-26 12:12:31</td>\n",
       "      <td>1</td>\n",
       "      <td>0</td>\n",
       "    </tr>\n",
       "    <tr>\n",
       "      <th>55781248</th>\n",
       "      <td>759915</td>\n",
       "      <td>2018-03-26 11:45:16</td>\n",
       "      <td>1</td>\n",
       "      <td>0</td>\n",
       "    </tr>\n",
       "    <tr>\n",
       "      <th>55781249</th>\n",
       "      <td>239267</td>\n",
       "      <td>2018-03-26 10:22:12</td>\n",
       "      <td>1</td>\n",
       "      <td>0</td>\n",
       "    </tr>\n",
       "    <tr>\n",
       "      <th>55781250</th>\n",
       "      <td>374370</td>\n",
       "      <td>2018-03-26 08:00:19</td>\n",
       "      <td>1</td>\n",
       "      <td>0</td>\n",
       "    </tr>\n",
       "    <tr>\n",
       "      <th>55781251</th>\n",
       "      <td>191301</td>\n",
       "      <td>2018-03-26 07:04:06</td>\n",
       "      <td>1</td>\n",
       "      <td>0</td>\n",
       "    </tr>\n",
       "    <tr>\n",
       "      <th>55781252</th>\n",
       "      <td>396984</td>\n",
       "      <td>2018-03-26 03:07:00</td>\n",
       "      <td>1</td>\n",
       "      <td>0</td>\n",
       "    </tr>\n",
       "    <tr>\n",
       "      <th>55781253</th>\n",
       "      <td>218869</td>\n",
       "      <td>2018-03-26 00:07:11</td>\n",
       "      <td>1</td>\n",
       "      <td>0</td>\n",
       "    </tr>\n",
       "    <tr>\n",
       "      <th>55781254</th>\n",
       "      <td>194136</td>\n",
       "      <td>2018-03-26 22:31:27</td>\n",
       "      <td>1</td>\n",
       "      <td>0</td>\n",
       "    </tr>\n",
       "    <tr>\n",
       "      <th>55781255</th>\n",
       "      <td>260908</td>\n",
       "      <td>2018-03-26 21:51:03</td>\n",
       "      <td>1</td>\n",
       "      <td>0</td>\n",
       "    </tr>\n",
       "    <tr>\n",
       "      <th>55781256</th>\n",
       "      <td>184382</td>\n",
       "      <td>2018-03-26 21:25:16</td>\n",
       "      <td>1</td>\n",
       "      <td>0</td>\n",
       "    </tr>\n",
       "    <tr>\n",
       "      <th>55781257</th>\n",
       "      <td>355658</td>\n",
       "      <td>2018-03-26 21:11:48</td>\n",
       "      <td>1</td>\n",
       "      <td>0</td>\n",
       "    </tr>\n",
       "    <tr>\n",
       "      <th>55781258</th>\n",
       "      <td>399855</td>\n",
       "      <td>2018-03-26 21:05:55</td>\n",
       "      <td>1</td>\n",
       "      <td>0</td>\n",
       "    </tr>\n",
       "    <tr>\n",
       "      <th>55781259</th>\n",
       "      <td>3669</td>\n",
       "      <td>2018-03-26 20:32:53</td>\n",
       "      <td>1</td>\n",
       "      <td>0</td>\n",
       "    </tr>\n",
       "    <tr>\n",
       "      <th>55781260</th>\n",
       "      <td>502593</td>\n",
       "      <td>2018-03-26 19:12:59</td>\n",
       "      <td>1</td>\n",
       "      <td>0</td>\n",
       "    </tr>\n",
       "    <tr>\n",
       "      <th>55781261</th>\n",
       "      <td>522430</td>\n",
       "      <td>2018-03-26 17:18:01</td>\n",
       "      <td>1</td>\n",
       "      <td>0</td>\n",
       "    </tr>\n",
       "    <tr>\n",
       "      <th>55781262</th>\n",
       "      <td>429716</td>\n",
       "      <td>2018-03-26 17:17:12</td>\n",
       "      <td>1</td>\n",
       "      <td>0</td>\n",
       "    </tr>\n",
       "    <tr>\n",
       "      <th>55781263</th>\n",
       "      <td>438259</td>\n",
       "      <td>2018-03-26 16:10:41</td>\n",
       "      <td>1</td>\n",
       "      <td>0</td>\n",
       "    </tr>\n",
       "    <tr>\n",
       "      <th>55781264</th>\n",
       "      <td>14207</td>\n",
       "      <td>2018-03-26 16:00:00</td>\n",
       "      <td>1</td>\n",
       "      <td>0</td>\n",
       "    </tr>\n",
       "    <tr>\n",
       "      <th>55781265</th>\n",
       "      <td>740554</td>\n",
       "      <td>2018-03-26 15:42:56</td>\n",
       "      <td>1</td>\n",
       "      <td>0</td>\n",
       "    </tr>\n",
       "    <tr>\n",
       "      <th>55781266</th>\n",
       "      <td>521901</td>\n",
       "      <td>2018-03-26 14:48:10</td>\n",
       "      <td>1</td>\n",
       "      <td>0</td>\n",
       "    </tr>\n",
       "    <tr>\n",
       "      <th>55781267</th>\n",
       "      <td>824255</td>\n",
       "      <td>2018-03-26 13:38:27</td>\n",
       "      <td>1</td>\n",
       "      <td>0</td>\n",
       "    </tr>\n",
       "    <tr>\n",
       "      <th>55781268</th>\n",
       "      <td>89245</td>\n",
       "      <td>2018-03-26 13:16:33</td>\n",
       "      <td>1</td>\n",
       "      <td>0</td>\n",
       "    </tr>\n",
       "    <tr>\n",
       "      <th>55781269</th>\n",
       "      <td>216481</td>\n",
       "      <td>2018-03-26 13:05:28</td>\n",
       "      <td>1</td>\n",
       "      <td>0</td>\n",
       "    </tr>\n",
       "    <tr>\n",
       "      <th>55781270</th>\n",
       "      <td>328665</td>\n",
       "      <td>2018-03-26 12:34:19</td>\n",
       "      <td>1</td>\n",
       "      <td>0</td>\n",
       "    </tr>\n",
       "  </tbody>\n",
       "</table>\n",
       "<p>55781271 rows × 4 columns</p>\n",
       "</div>"
      ],
      "text/plain": [
       "          user_id       behavior_time  behavior_type  weekday\n",
       "0          842439 2018-09-13 23:17:21              3        3\n",
       "1          842439 2018-09-13 23:17:21              3        3\n",
       "2          905214 2018-09-13 15:19:30              3        3\n",
       "3          905214 2018-09-13 15:19:30              3        3\n",
       "4          842439 2018-09-13 23:17:21              3        3\n",
       "5          842439 2018-09-13 23:17:21              3        3\n",
       "6          905214 2018-09-13 15:18:28              3        3\n",
       "7          905214 2018-09-13 15:19:30              3        3\n",
       "8           48629 2018-09-13 14:22:32              3        3\n",
       "9          905214 2018-09-13 15:18:28              3        3\n",
       "10         905214 2018-09-13 05:37:39              3        3\n",
       "11         905214 2018-09-13 15:18:28              3        3\n",
       "12         905214 2018-09-13 05:37:39              3        3\n",
       "13          48629 2018-09-13 14:22:32              3        3\n",
       "14         842439 2018-09-13 23:17:37              3        3\n",
       "15          48629 2018-09-13 14:22:32              3        3\n",
       "16         842439 2018-09-13 23:17:21              3        3\n",
       "17         842439 2018-09-13 23:20:43              3        3\n",
       "18          48629 2018-09-13 14:22:32              3        3\n",
       "19         842439 2018-09-13 23:17:21              3        3\n",
       "20         842439 2018-09-13 23:17:21              3        3\n",
       "21         842439 2018-09-13 23:17:21              3        3\n",
       "22         905214 2018-09-13 15:18:28              3        3\n",
       "23         905214 2018-09-13 15:18:28              3        3\n",
       "24          48629 2018-09-13 14:22:32              3        3\n",
       "25         905214 2018-09-13 15:18:28              3        3\n",
       "26         758967 2018-09-13 13:29:00              3        3\n",
       "27         905214 2018-09-13 15:18:28              3        3\n",
       "28          48629 2018-09-13 14:22:32              3        3\n",
       "29         842439 2018-09-13 23:20:43              3        3\n",
       "...           ...                 ...            ...      ...\n",
       "55781241    62140 2018-03-26 17:52:00              1        0\n",
       "55781242   159459 2018-03-26 16:59:13              1        0\n",
       "55781243   245093 2018-03-26 16:25:01              1        0\n",
       "55781244   184798 2018-03-26 14:59:06              1        0\n",
       "55781245   682962 2018-03-26 14:50:40              1        0\n",
       "55781246   817800 2018-03-26 13:15:29              1        0\n",
       "55781247    62421 2018-03-26 12:12:31              1        0\n",
       "55781248   759915 2018-03-26 11:45:16              1        0\n",
       "55781249   239267 2018-03-26 10:22:12              1        0\n",
       "55781250   374370 2018-03-26 08:00:19              1        0\n",
       "55781251   191301 2018-03-26 07:04:06              1        0\n",
       "55781252   396984 2018-03-26 03:07:00              1        0\n",
       "55781253   218869 2018-03-26 00:07:11              1        0\n",
       "55781254   194136 2018-03-26 22:31:27              1        0\n",
       "55781255   260908 2018-03-26 21:51:03              1        0\n",
       "55781256   184382 2018-03-26 21:25:16              1        0\n",
       "55781257   355658 2018-03-26 21:11:48              1        0\n",
       "55781258   399855 2018-03-26 21:05:55              1        0\n",
       "55781259     3669 2018-03-26 20:32:53              1        0\n",
       "55781260   502593 2018-03-26 19:12:59              1        0\n",
       "55781261   522430 2018-03-26 17:18:01              1        0\n",
       "55781262   429716 2018-03-26 17:17:12              1        0\n",
       "55781263   438259 2018-03-26 16:10:41              1        0\n",
       "55781264    14207 2018-03-26 16:00:00              1        0\n",
       "55781265   740554 2018-03-26 15:42:56              1        0\n",
       "55781266   521901 2018-03-26 14:48:10              1        0\n",
       "55781267   824255 2018-03-26 13:38:27              1        0\n",
       "55781268    89245 2018-03-26 13:16:33              1        0\n",
       "55781269   216481 2018-03-26 13:05:28              1        0\n",
       "55781270   328665 2018-03-26 12:34:19              1        0\n",
       "\n",
       "[55781271 rows x 4 columns]"
      ]
     },
     "execution_count": 33,
     "metadata": {},
     "output_type": "execute_result"
    }
   ],
   "source": [
    "user_behavior_logs"
   ]
  },
  {
   "cell_type": "code",
   "execution_count": 44,
   "metadata": {},
   "outputs": [
    {
     "data": {
      "text/html": [
       "<div>\n",
       "<style scoped>\n",
       "    .dataframe tbody tr th:only-of-type {\n",
       "        vertical-align: middle;\n",
       "    }\n",
       "\n",
       "    .dataframe tbody tr th {\n",
       "        vertical-align: top;\n",
       "    }\n",
       "\n",
       "    .dataframe thead th {\n",
       "        text-align: right;\n",
       "    }\n",
       "</style>\n",
       "<table border=\"1\" class=\"dataframe\">\n",
       "  <thead>\n",
       "    <tr style=\"text-align: right;\">\n",
       "      <th></th>\n",
       "      <th>user_id</th>\n",
       "      <th>behavior_time</th>\n",
       "      <th>behavior_type</th>\n",
       "      <th>weekday</th>\n",
       "    </tr>\n",
       "  </thead>\n",
       "  <tbody>\n",
       "    <tr>\n",
       "      <th>594</th>\n",
       "      <td>206567</td>\n",
       "      <td>2018-06-04 12:25:29</td>\n",
       "      <td>1</td>\n",
       "      <td>0</td>\n",
       "    </tr>\n",
       "    <tr>\n",
       "      <th>595</th>\n",
       "      <td>416077</td>\n",
       "      <td>2018-06-04 08:48:28</td>\n",
       "      <td>1</td>\n",
       "      <td>0</td>\n",
       "    </tr>\n",
       "    <tr>\n",
       "      <th>596</th>\n",
       "      <td>752551</td>\n",
       "      <td>2018-06-04 21:46:57</td>\n",
       "      <td>1</td>\n",
       "      <td>0</td>\n",
       "    </tr>\n",
       "    <tr>\n",
       "      <th>597</th>\n",
       "      <td>91796</td>\n",
       "      <td>2018-06-04 20:31:58</td>\n",
       "      <td>1</td>\n",
       "      <td>0</td>\n",
       "    </tr>\n",
       "    <tr>\n",
       "      <th>598</th>\n",
       "      <td>744217</td>\n",
       "      <td>2018-06-04 18:25:39</td>\n",
       "      <td>1</td>\n",
       "      <td>0</td>\n",
       "    </tr>\n",
       "    <tr>\n",
       "      <th>599</th>\n",
       "      <td>741283</td>\n",
       "      <td>2018-06-04 17:19:32</td>\n",
       "      <td>1</td>\n",
       "      <td>0</td>\n",
       "    </tr>\n",
       "    <tr>\n",
       "      <th>600</th>\n",
       "      <td>690245</td>\n",
       "      <td>2018-06-04 14:42:18</td>\n",
       "      <td>1</td>\n",
       "      <td>0</td>\n",
       "    </tr>\n",
       "    <tr>\n",
       "      <th>601</th>\n",
       "      <td>240568</td>\n",
       "      <td>2018-06-04 13:04:19</td>\n",
       "      <td>1</td>\n",
       "      <td>0</td>\n",
       "    </tr>\n",
       "    <tr>\n",
       "      <th>602</th>\n",
       "      <td>636334</td>\n",
       "      <td>2018-06-04 10:58:56</td>\n",
       "      <td>1</td>\n",
       "      <td>0</td>\n",
       "    </tr>\n",
       "    <tr>\n",
       "      <th>603</th>\n",
       "      <td>416563</td>\n",
       "      <td>2018-06-04 09:59:49</td>\n",
       "      <td>1</td>\n",
       "      <td>0</td>\n",
       "    </tr>\n",
       "    <tr>\n",
       "      <th>604</th>\n",
       "      <td>373268</td>\n",
       "      <td>2018-06-04 08:34:29</td>\n",
       "      <td>1</td>\n",
       "      <td>0</td>\n",
       "    </tr>\n",
       "    <tr>\n",
       "      <th>605</th>\n",
       "      <td>14496</td>\n",
       "      <td>2018-06-04 08:27:01</td>\n",
       "      <td>1</td>\n",
       "      <td>0</td>\n",
       "    </tr>\n",
       "    <tr>\n",
       "      <th>606</th>\n",
       "      <td>636334</td>\n",
       "      <td>2018-06-04 01:40:03</td>\n",
       "      <td>1</td>\n",
       "      <td>0</td>\n",
       "    </tr>\n",
       "    <tr>\n",
       "      <th>607</th>\n",
       "      <td>606943</td>\n",
       "      <td>2018-06-04 22:45:01</td>\n",
       "      <td>1</td>\n",
       "      <td>0</td>\n",
       "    </tr>\n",
       "    <tr>\n",
       "      <th>608</th>\n",
       "      <td>818949</td>\n",
       "      <td>2018-06-04 21:55:22</td>\n",
       "      <td>1</td>\n",
       "      <td>0</td>\n",
       "    </tr>\n",
       "    <tr>\n",
       "      <th>609</th>\n",
       "      <td>466026</td>\n",
       "      <td>2018-06-04 20:43:28</td>\n",
       "      <td>1</td>\n",
       "      <td>0</td>\n",
       "    </tr>\n",
       "    <tr>\n",
       "      <th>610</th>\n",
       "      <td>829024</td>\n",
       "      <td>2018-06-04 20:07:47</td>\n",
       "      <td>1</td>\n",
       "      <td>0</td>\n",
       "    </tr>\n",
       "    <tr>\n",
       "      <th>611</th>\n",
       "      <td>588368</td>\n",
       "      <td>2018-06-04 19:19:50</td>\n",
       "      <td>1</td>\n",
       "      <td>0</td>\n",
       "    </tr>\n",
       "    <tr>\n",
       "      <th>612</th>\n",
       "      <td>772365</td>\n",
       "      <td>2018-06-04 18:40:59</td>\n",
       "      <td>1</td>\n",
       "      <td>0</td>\n",
       "    </tr>\n",
       "    <tr>\n",
       "      <th>613</th>\n",
       "      <td>519481</td>\n",
       "      <td>2018-06-04 09:17:01</td>\n",
       "      <td>1</td>\n",
       "      <td>0</td>\n",
       "    </tr>\n",
       "    <tr>\n",
       "      <th>614</th>\n",
       "      <td>150406</td>\n",
       "      <td>2018-06-04 09:15:53</td>\n",
       "      <td>1</td>\n",
       "      <td>0</td>\n",
       "    </tr>\n",
       "    <tr>\n",
       "      <th>615</th>\n",
       "      <td>563082</td>\n",
       "      <td>2018-06-04 08:45:04</td>\n",
       "      <td>1</td>\n",
       "      <td>0</td>\n",
       "    </tr>\n",
       "    <tr>\n",
       "      <th>616</th>\n",
       "      <td>850159</td>\n",
       "      <td>2018-06-04 18:54:37</td>\n",
       "      <td>1</td>\n",
       "      <td>0</td>\n",
       "    </tr>\n",
       "    <tr>\n",
       "      <th>617</th>\n",
       "      <td>545224</td>\n",
       "      <td>2018-06-04 17:35:23</td>\n",
       "      <td>1</td>\n",
       "      <td>0</td>\n",
       "    </tr>\n",
       "    <tr>\n",
       "      <th>618</th>\n",
       "      <td>853373</td>\n",
       "      <td>2018-06-04 17:06:01</td>\n",
       "      <td>1</td>\n",
       "      <td>0</td>\n",
       "    </tr>\n",
       "    <tr>\n",
       "      <th>619</th>\n",
       "      <td>61707</td>\n",
       "      <td>2018-06-04 15:59:46</td>\n",
       "      <td>1</td>\n",
       "      <td>0</td>\n",
       "    </tr>\n",
       "    <tr>\n",
       "      <th>620</th>\n",
       "      <td>244488</td>\n",
       "      <td>2018-06-04 15:40:46</td>\n",
       "      <td>1</td>\n",
       "      <td>0</td>\n",
       "    </tr>\n",
       "    <tr>\n",
       "      <th>621</th>\n",
       "      <td>158966</td>\n",
       "      <td>2018-06-04 09:31:44</td>\n",
       "      <td>1</td>\n",
       "      <td>0</td>\n",
       "    </tr>\n",
       "    <tr>\n",
       "      <th>622</th>\n",
       "      <td>563082</td>\n",
       "      <td>2018-06-04 08:33:41</td>\n",
       "      <td>1</td>\n",
       "      <td>0</td>\n",
       "    </tr>\n",
       "    <tr>\n",
       "      <th>623</th>\n",
       "      <td>563082</td>\n",
       "      <td>2018-06-04 08:30:52</td>\n",
       "      <td>1</td>\n",
       "      <td>0</td>\n",
       "    </tr>\n",
       "    <tr>\n",
       "      <th>...</th>\n",
       "      <td>...</td>\n",
       "      <td>...</td>\n",
       "      <td>...</td>\n",
       "      <td>...</td>\n",
       "    </tr>\n",
       "    <tr>\n",
       "      <th>55781241</th>\n",
       "      <td>62140</td>\n",
       "      <td>2018-03-26 17:52:00</td>\n",
       "      <td>1</td>\n",
       "      <td>0</td>\n",
       "    </tr>\n",
       "    <tr>\n",
       "      <th>55781242</th>\n",
       "      <td>159459</td>\n",
       "      <td>2018-03-26 16:59:13</td>\n",
       "      <td>1</td>\n",
       "      <td>0</td>\n",
       "    </tr>\n",
       "    <tr>\n",
       "      <th>55781243</th>\n",
       "      <td>245093</td>\n",
       "      <td>2018-03-26 16:25:01</td>\n",
       "      <td>1</td>\n",
       "      <td>0</td>\n",
       "    </tr>\n",
       "    <tr>\n",
       "      <th>55781244</th>\n",
       "      <td>184798</td>\n",
       "      <td>2018-03-26 14:59:06</td>\n",
       "      <td>1</td>\n",
       "      <td>0</td>\n",
       "    </tr>\n",
       "    <tr>\n",
       "      <th>55781245</th>\n",
       "      <td>682962</td>\n",
       "      <td>2018-03-26 14:50:40</td>\n",
       "      <td>1</td>\n",
       "      <td>0</td>\n",
       "    </tr>\n",
       "    <tr>\n",
       "      <th>55781246</th>\n",
       "      <td>817800</td>\n",
       "      <td>2018-03-26 13:15:29</td>\n",
       "      <td>1</td>\n",
       "      <td>0</td>\n",
       "    </tr>\n",
       "    <tr>\n",
       "      <th>55781247</th>\n",
       "      <td>62421</td>\n",
       "      <td>2018-03-26 12:12:31</td>\n",
       "      <td>1</td>\n",
       "      <td>0</td>\n",
       "    </tr>\n",
       "    <tr>\n",
       "      <th>55781248</th>\n",
       "      <td>759915</td>\n",
       "      <td>2018-03-26 11:45:16</td>\n",
       "      <td>1</td>\n",
       "      <td>0</td>\n",
       "    </tr>\n",
       "    <tr>\n",
       "      <th>55781249</th>\n",
       "      <td>239267</td>\n",
       "      <td>2018-03-26 10:22:12</td>\n",
       "      <td>1</td>\n",
       "      <td>0</td>\n",
       "    </tr>\n",
       "    <tr>\n",
       "      <th>55781250</th>\n",
       "      <td>374370</td>\n",
       "      <td>2018-03-26 08:00:19</td>\n",
       "      <td>1</td>\n",
       "      <td>0</td>\n",
       "    </tr>\n",
       "    <tr>\n",
       "      <th>55781251</th>\n",
       "      <td>191301</td>\n",
       "      <td>2018-03-26 07:04:06</td>\n",
       "      <td>1</td>\n",
       "      <td>0</td>\n",
       "    </tr>\n",
       "    <tr>\n",
       "      <th>55781252</th>\n",
       "      <td>396984</td>\n",
       "      <td>2018-03-26 03:07:00</td>\n",
       "      <td>1</td>\n",
       "      <td>0</td>\n",
       "    </tr>\n",
       "    <tr>\n",
       "      <th>55781253</th>\n",
       "      <td>218869</td>\n",
       "      <td>2018-03-26 00:07:11</td>\n",
       "      <td>1</td>\n",
       "      <td>0</td>\n",
       "    </tr>\n",
       "    <tr>\n",
       "      <th>55781254</th>\n",
       "      <td>194136</td>\n",
       "      <td>2018-03-26 22:31:27</td>\n",
       "      <td>1</td>\n",
       "      <td>0</td>\n",
       "    </tr>\n",
       "    <tr>\n",
       "      <th>55781255</th>\n",
       "      <td>260908</td>\n",
       "      <td>2018-03-26 21:51:03</td>\n",
       "      <td>1</td>\n",
       "      <td>0</td>\n",
       "    </tr>\n",
       "    <tr>\n",
       "      <th>55781256</th>\n",
       "      <td>184382</td>\n",
       "      <td>2018-03-26 21:25:16</td>\n",
       "      <td>1</td>\n",
       "      <td>0</td>\n",
       "    </tr>\n",
       "    <tr>\n",
       "      <th>55781257</th>\n",
       "      <td>355658</td>\n",
       "      <td>2018-03-26 21:11:48</td>\n",
       "      <td>1</td>\n",
       "      <td>0</td>\n",
       "    </tr>\n",
       "    <tr>\n",
       "      <th>55781258</th>\n",
       "      <td>399855</td>\n",
       "      <td>2018-03-26 21:05:55</td>\n",
       "      <td>1</td>\n",
       "      <td>0</td>\n",
       "    </tr>\n",
       "    <tr>\n",
       "      <th>55781259</th>\n",
       "      <td>3669</td>\n",
       "      <td>2018-03-26 20:32:53</td>\n",
       "      <td>1</td>\n",
       "      <td>0</td>\n",
       "    </tr>\n",
       "    <tr>\n",
       "      <th>55781260</th>\n",
       "      <td>502593</td>\n",
       "      <td>2018-03-26 19:12:59</td>\n",
       "      <td>1</td>\n",
       "      <td>0</td>\n",
       "    </tr>\n",
       "    <tr>\n",
       "      <th>55781261</th>\n",
       "      <td>522430</td>\n",
       "      <td>2018-03-26 17:18:01</td>\n",
       "      <td>1</td>\n",
       "      <td>0</td>\n",
       "    </tr>\n",
       "    <tr>\n",
       "      <th>55781262</th>\n",
       "      <td>429716</td>\n",
       "      <td>2018-03-26 17:17:12</td>\n",
       "      <td>1</td>\n",
       "      <td>0</td>\n",
       "    </tr>\n",
       "    <tr>\n",
       "      <th>55781263</th>\n",
       "      <td>438259</td>\n",
       "      <td>2018-03-26 16:10:41</td>\n",
       "      <td>1</td>\n",
       "      <td>0</td>\n",
       "    </tr>\n",
       "    <tr>\n",
       "      <th>55781264</th>\n",
       "      <td>14207</td>\n",
       "      <td>2018-03-26 16:00:00</td>\n",
       "      <td>1</td>\n",
       "      <td>0</td>\n",
       "    </tr>\n",
       "    <tr>\n",
       "      <th>55781265</th>\n",
       "      <td>740554</td>\n",
       "      <td>2018-03-26 15:42:56</td>\n",
       "      <td>1</td>\n",
       "      <td>0</td>\n",
       "    </tr>\n",
       "    <tr>\n",
       "      <th>55781266</th>\n",
       "      <td>521901</td>\n",
       "      <td>2018-03-26 14:48:10</td>\n",
       "      <td>1</td>\n",
       "      <td>0</td>\n",
       "    </tr>\n",
       "    <tr>\n",
       "      <th>55781267</th>\n",
       "      <td>824255</td>\n",
       "      <td>2018-03-26 13:38:27</td>\n",
       "      <td>1</td>\n",
       "      <td>0</td>\n",
       "    </tr>\n",
       "    <tr>\n",
       "      <th>55781268</th>\n",
       "      <td>89245</td>\n",
       "      <td>2018-03-26 13:16:33</td>\n",
       "      <td>1</td>\n",
       "      <td>0</td>\n",
       "    </tr>\n",
       "    <tr>\n",
       "      <th>55781269</th>\n",
       "      <td>216481</td>\n",
       "      <td>2018-03-26 13:05:28</td>\n",
       "      <td>1</td>\n",
       "      <td>0</td>\n",
       "    </tr>\n",
       "    <tr>\n",
       "      <th>55781270</th>\n",
       "      <td>328665</td>\n",
       "      <td>2018-03-26 12:34:19</td>\n",
       "      <td>1</td>\n",
       "      <td>0</td>\n",
       "    </tr>\n",
       "  </tbody>\n",
       "</table>\n",
       "<p>43469932 rows × 4 columns</p>\n",
       "</div>"
      ],
      "text/plain": [
       "          user_id       behavior_time  behavior_type  weekday\n",
       "594        206567 2018-06-04 12:25:29              1        0\n",
       "595        416077 2018-06-04 08:48:28              1        0\n",
       "596        752551 2018-06-04 21:46:57              1        0\n",
       "597         91796 2018-06-04 20:31:58              1        0\n",
       "598        744217 2018-06-04 18:25:39              1        0\n",
       "599        741283 2018-06-04 17:19:32              1        0\n",
       "600        690245 2018-06-04 14:42:18              1        0\n",
       "601        240568 2018-06-04 13:04:19              1        0\n",
       "602        636334 2018-06-04 10:58:56              1        0\n",
       "603        416563 2018-06-04 09:59:49              1        0\n",
       "604        373268 2018-06-04 08:34:29              1        0\n",
       "605         14496 2018-06-04 08:27:01              1        0\n",
       "606        636334 2018-06-04 01:40:03              1        0\n",
       "607        606943 2018-06-04 22:45:01              1        0\n",
       "608        818949 2018-06-04 21:55:22              1        0\n",
       "609        466026 2018-06-04 20:43:28              1        0\n",
       "610        829024 2018-06-04 20:07:47              1        0\n",
       "611        588368 2018-06-04 19:19:50              1        0\n",
       "612        772365 2018-06-04 18:40:59              1        0\n",
       "613        519481 2018-06-04 09:17:01              1        0\n",
       "614        150406 2018-06-04 09:15:53              1        0\n",
       "615        563082 2018-06-04 08:45:04              1        0\n",
       "616        850159 2018-06-04 18:54:37              1        0\n",
       "617        545224 2018-06-04 17:35:23              1        0\n",
       "618        853373 2018-06-04 17:06:01              1        0\n",
       "619         61707 2018-06-04 15:59:46              1        0\n",
       "620        244488 2018-06-04 15:40:46              1        0\n",
       "621        158966 2018-06-04 09:31:44              1        0\n",
       "622        563082 2018-06-04 08:33:41              1        0\n",
       "623        563082 2018-06-04 08:30:52              1        0\n",
       "...           ...                 ...            ...      ...\n",
       "55781241    62140 2018-03-26 17:52:00              1        0\n",
       "55781242   159459 2018-03-26 16:59:13              1        0\n",
       "55781243   245093 2018-03-26 16:25:01              1        0\n",
       "55781244   184798 2018-03-26 14:59:06              1        0\n",
       "55781245   682962 2018-03-26 14:50:40              1        0\n",
       "55781246   817800 2018-03-26 13:15:29              1        0\n",
       "55781247    62421 2018-03-26 12:12:31              1        0\n",
       "55781248   759915 2018-03-26 11:45:16              1        0\n",
       "55781249   239267 2018-03-26 10:22:12              1        0\n",
       "55781250   374370 2018-03-26 08:00:19              1        0\n",
       "55781251   191301 2018-03-26 07:04:06              1        0\n",
       "55781252   396984 2018-03-26 03:07:00              1        0\n",
       "55781253   218869 2018-03-26 00:07:11              1        0\n",
       "55781254   194136 2018-03-26 22:31:27              1        0\n",
       "55781255   260908 2018-03-26 21:51:03              1        0\n",
       "55781256   184382 2018-03-26 21:25:16              1        0\n",
       "55781257   355658 2018-03-26 21:11:48              1        0\n",
       "55781258   399855 2018-03-26 21:05:55              1        0\n",
       "55781259     3669 2018-03-26 20:32:53              1        0\n",
       "55781260   502593 2018-03-26 19:12:59              1        0\n",
       "55781261   522430 2018-03-26 17:18:01              1        0\n",
       "55781262   429716 2018-03-26 17:17:12              1        0\n",
       "55781263   438259 2018-03-26 16:10:41              1        0\n",
       "55781264    14207 2018-03-26 16:00:00              1        0\n",
       "55781265   740554 2018-03-26 15:42:56              1        0\n",
       "55781266   521901 2018-03-26 14:48:10              1        0\n",
       "55781267   824255 2018-03-26 13:38:27              1        0\n",
       "55781268    89245 2018-03-26 13:16:33              1        0\n",
       "55781269   216481 2018-03-26 13:05:28              1        0\n",
       "55781270   328665 2018-03-26 12:34:19              1        0\n",
       "\n",
       "[43469932 rows x 4 columns]"
      ]
     },
     "execution_count": 44,
     "metadata": {},
     "output_type": "execute_result"
    }
   ],
   "source": [
    "behavior_type1=user_behavior_logs.loc[user_behavior_logs['behavior_type'] == 1]\n",
    "behavior_type1"
   ]
  },
  {
   "cell_type": "code",
   "execution_count": 45,
   "metadata": {
    "collapsed": true
   },
   "outputs": [],
   "source": [
    "behavior_type2=user_behavior_logs.loc[user_behavior_logs['behavior_type'] == 2]"
   ]
  },
  {
   "cell_type": "code",
   "execution_count": 46,
   "metadata": {
    "collapsed": true
   },
   "outputs": [],
   "source": [
    "behavior_type3=user_behavior_logs.loc[user_behavior_logs['behavior_type'] == 3]"
   ]
  },
  {
   "cell_type": "code",
   "execution_count": 47,
   "metadata": {
    "collapsed": true
   },
   "outputs": [],
   "source": [
    "behavior_type1_day0=behavior_type1.loc[behavior_type1['weekday'] == 0]"
   ]
  },
  {
   "cell_type": "code",
   "execution_count": 48,
   "metadata": {
    "collapsed": true
   },
   "outputs": [],
   "source": [
    "behavior_type1_day1=behavior_type1.loc[behavior_type1['weekday'] == 1]"
   ]
  },
  {
   "cell_type": "code",
   "execution_count": 49,
   "metadata": {
    "collapsed": true
   },
   "outputs": [],
   "source": [
    "behavior_type1_day2=behavior_type1.loc[behavior_type1['weekday'] == 2]"
   ]
  },
  {
   "cell_type": "code",
   "execution_count": 50,
   "metadata": {
    "collapsed": true
   },
   "outputs": [],
   "source": [
    "behavior_type1_day3=behavior_type1.loc[behavior_type1['weekday'] == 3]"
   ]
  },
  {
   "cell_type": "code",
   "execution_count": 51,
   "metadata": {
    "collapsed": true
   },
   "outputs": [],
   "source": [
    "behavior_type1_day4=behavior_type1.loc[behavior_type1['weekday'] == 4]"
   ]
  },
  {
   "cell_type": "code",
   "execution_count": 52,
   "metadata": {
    "collapsed": true
   },
   "outputs": [],
   "source": [
    "behavior_type1_day5=behavior_type1.loc[behavior_type1['weekday'] == 5]"
   ]
  },
  {
   "cell_type": "code",
   "execution_count": 53,
   "metadata": {
    "collapsed": true
   },
   "outputs": [],
   "source": [
    "behavior_type1_day6=behavior_type1.loc[behavior_type1['weekday'] == 6]"
   ]
  },
  {
   "cell_type": "code",
   "execution_count": 56,
   "metadata": {},
   "outputs": [
    {
     "data": {
      "text/plain": [
       "user_id          0.146992\n",
       "behavior_time    0.146992\n",
       "behavior_type    0.146992\n",
       "weekday          0.146992\n",
       "dtype: float64"
      ]
     },
     "execution_count": 56,
     "metadata": {},
     "output_type": "execute_result"
    }
   ],
   "source": [
    "behavior_type1_day0.count()/behavior_type1.count()"
   ]
  },
  {
   "cell_type": "code",
   "execution_count": 57,
   "metadata": {},
   "outputs": [
    {
     "data": {
      "text/plain": [
       "user_id          0.147913\n",
       "behavior_time    0.147913\n",
       "behavior_type    0.147913\n",
       "weekday          0.147913\n",
       "dtype: float64"
      ]
     },
     "execution_count": 57,
     "metadata": {},
     "output_type": "execute_result"
    }
   ],
   "source": [
    "behavior_type1_day1.count()/behavior_type1.count()"
   ]
  },
  {
   "cell_type": "code",
   "execution_count": 58,
   "metadata": {},
   "outputs": [
    {
     "data": {
      "text/plain": [
       "user_id          0.146279\n",
       "behavior_time    0.146279\n",
       "behavior_type    0.146279\n",
       "weekday          0.146279\n",
       "dtype: float64"
      ]
     },
     "execution_count": 58,
     "metadata": {},
     "output_type": "execute_result"
    }
   ],
   "source": [
    "behavior_type1_day2.count()/behavior_type1.count()"
   ]
  },
  {
   "cell_type": "code",
   "execution_count": 59,
   "metadata": {},
   "outputs": [
    {
     "data": {
      "text/plain": [
       "user_id          0.146126\n",
       "behavior_time    0.146126\n",
       "behavior_type    0.146126\n",
       "weekday          0.146126\n",
       "dtype: float64"
      ]
     },
     "execution_count": 59,
     "metadata": {},
     "output_type": "execute_result"
    }
   ],
   "source": [
    "behavior_type1_day3.count()/behavior_type1.count()"
   ]
  },
  {
   "cell_type": "code",
   "execution_count": 60,
   "metadata": {},
   "outputs": [
    {
     "data": {
      "text/plain": [
       "user_id          0.145501\n",
       "behavior_time    0.145501\n",
       "behavior_type    0.145501\n",
       "weekday          0.145501\n",
       "dtype: float64"
      ]
     },
     "execution_count": 60,
     "metadata": {},
     "output_type": "execute_result"
    }
   ],
   "source": [
    "behavior_type1_day4.count()/behavior_type1.count()"
   ]
  },
  {
   "cell_type": "code",
   "execution_count": 61,
   "metadata": {},
   "outputs": [
    {
     "data": {
      "text/plain": [
       "user_id          0.13361\n",
       "behavior_time    0.13361\n",
       "behavior_type    0.13361\n",
       "weekday          0.13361\n",
       "dtype: float64"
      ]
     },
     "execution_count": 61,
     "metadata": {},
     "output_type": "execute_result"
    }
   ],
   "source": [
    "behavior_type1_day5.count()/behavior_type1.count()"
   ]
  },
  {
   "cell_type": "code",
   "execution_count": 62,
   "metadata": {},
   "outputs": [
    {
     "data": {
      "text/plain": [
       "user_id          0.133579\n",
       "behavior_time    0.133579\n",
       "behavior_type    0.133579\n",
       "weekday          0.133579\n",
       "dtype: float64"
      ]
     },
     "execution_count": 62,
     "metadata": {},
     "output_type": "execute_result"
    }
   ],
   "source": [
    "behavior_type1_day6.count()/behavior_type1.count()"
   ]
  },
  {
   "cell_type": "code",
   "execution_count": 63,
   "metadata": {
    "collapsed": true
   },
   "outputs": [],
   "source": [
    "behavior_type2_day0=behavior_type2.loc[behavior_type2['weekday'] == 0]"
   ]
  },
  {
   "cell_type": "code",
   "execution_count": 64,
   "metadata": {
    "collapsed": true
   },
   "outputs": [],
   "source": [
    "behavior_type2_day1=behavior_type2.loc[behavior_type2['weekday'] == 1]"
   ]
  },
  {
   "cell_type": "code",
   "execution_count": 65,
   "metadata": {
    "collapsed": true
   },
   "outputs": [],
   "source": [
    "behavior_type2_day2=behavior_type2.loc[behavior_type2['weekday'] == 2]"
   ]
  },
  {
   "cell_type": "code",
   "execution_count": 66,
   "metadata": {
    "collapsed": true
   },
   "outputs": [],
   "source": [
    "behavior_type2_day3=behavior_type2.loc[behavior_type2['weekday'] == 3]"
   ]
  },
  {
   "cell_type": "code",
   "execution_count": 67,
   "metadata": {
    "collapsed": true
   },
   "outputs": [],
   "source": [
    "behavior_type2_day4=behavior_type2.loc[behavior_type2['weekday'] == 4]"
   ]
  },
  {
   "cell_type": "code",
   "execution_count": 68,
   "metadata": {
    "collapsed": true
   },
   "outputs": [],
   "source": [
    "behavior_type2_day5=behavior_type2.loc[behavior_type2['weekday'] == 5]"
   ]
  },
  {
   "cell_type": "code",
   "execution_count": 69,
   "metadata": {
    "collapsed": true
   },
   "outputs": [],
   "source": [
    "behavior_type2_day6=behavior_type2.loc[behavior_type2['weekday'] == 6]"
   ]
  },
  {
   "cell_type": "code",
   "execution_count": 70,
   "metadata": {},
   "outputs": [
    {
     "data": {
      "text/plain": [
       "user_id          0.147667\n",
       "behavior_time    0.147667\n",
       "behavior_type    0.147667\n",
       "weekday          0.147667\n",
       "dtype: float64"
      ]
     },
     "execution_count": 70,
     "metadata": {},
     "output_type": "execute_result"
    }
   ],
   "source": [
    "behavior_type2_day0.count()/behavior_type2.count()"
   ]
  },
  {
   "cell_type": "code",
   "execution_count": 71,
   "metadata": {},
   "outputs": [
    {
     "data": {
      "text/plain": [
       "user_id          0.145961\n",
       "behavior_time    0.145961\n",
       "behavior_type    0.145961\n",
       "weekday          0.145961\n",
       "dtype: float64"
      ]
     },
     "execution_count": 71,
     "metadata": {},
     "output_type": "execute_result"
    }
   ],
   "source": [
    "behavior_type2_day1.count()/behavior_type2.count()"
   ]
  },
  {
   "cell_type": "code",
   "execution_count": 72,
   "metadata": {},
   "outputs": [
    {
     "data": {
      "text/plain": [
       "user_id          0.147305\n",
       "behavior_time    0.147305\n",
       "behavior_type    0.147305\n",
       "weekday          0.147305\n",
       "dtype: float64"
      ]
     },
     "execution_count": 72,
     "metadata": {},
     "output_type": "execute_result"
    }
   ],
   "source": [
    "behavior_type2_day2.count()/behavior_type2.count()"
   ]
  },
  {
   "cell_type": "code",
   "execution_count": 73,
   "metadata": {},
   "outputs": [
    {
     "data": {
      "text/plain": [
       "user_id          0.145778\n",
       "behavior_time    0.145778\n",
       "behavior_type    0.145778\n",
       "weekday          0.145778\n",
       "dtype: float64"
      ]
     },
     "execution_count": 73,
     "metadata": {},
     "output_type": "execute_result"
    }
   ],
   "source": [
    "behavior_type2_day3.count()/behavior_type2.count()"
   ]
  },
  {
   "cell_type": "code",
   "execution_count": 74,
   "metadata": {},
   "outputs": [
    {
     "data": {
      "text/plain": [
       "user_id          0.146414\n",
       "behavior_time    0.146414\n",
       "behavior_type    0.146414\n",
       "weekday          0.146414\n",
       "dtype: float64"
      ]
     },
     "execution_count": 74,
     "metadata": {},
     "output_type": "execute_result"
    }
   ],
   "source": [
    "behavior_type2_day4.count()/behavior_type2.count()"
   ]
  },
  {
   "cell_type": "code",
   "execution_count": 75,
   "metadata": {},
   "outputs": [
    {
     "data": {
      "text/plain": [
       "user_id          0.134031\n",
       "behavior_time    0.134031\n",
       "behavior_type    0.134031\n",
       "weekday          0.134031\n",
       "dtype: float64"
      ]
     },
     "execution_count": 75,
     "metadata": {},
     "output_type": "execute_result"
    }
   ],
   "source": [
    "behavior_type2_day5.count()/behavior_type2.count()"
   ]
  },
  {
   "cell_type": "code",
   "execution_count": 76,
   "metadata": {},
   "outputs": [
    {
     "data": {
      "text/plain": [
       "user_id          0.132843\n",
       "behavior_time    0.132843\n",
       "behavior_type    0.132843\n",
       "weekday          0.132843\n",
       "dtype: float64"
      ]
     },
     "execution_count": 76,
     "metadata": {},
     "output_type": "execute_result"
    }
   ],
   "source": [
    "behavior_type2_day6.count()/behavior_type2.count()"
   ]
  },
  {
   "cell_type": "code",
   "execution_count": 77,
   "metadata": {
    "collapsed": true
   },
   "outputs": [],
   "source": [
    "behavior_type3_day5=behavior_type3.loc[behavior_type3['weekday'] == 5]"
   ]
  },
  {
   "cell_type": "code",
   "execution_count": 78,
   "metadata": {
    "collapsed": true
   },
   "outputs": [],
   "source": [
    "behavior_type3_day6=behavior_type3.loc[behavior_type3['weekday'] == 6]"
   ]
  },
  {
   "cell_type": "code",
   "execution_count": 79,
   "metadata": {},
   "outputs": [
    {
     "data": {
      "text/plain": [
       "user_id          0.134627\n",
       "behavior_time    0.134627\n",
       "behavior_type    0.134627\n",
       "weekday          0.134627\n",
       "dtype: float64"
      ]
     },
     "execution_count": 79,
     "metadata": {},
     "output_type": "execute_result"
    }
   ],
   "source": [
    "behavior_type3_day5.count()/behavior_type3.count()"
   ]
  },
  {
   "cell_type": "code",
   "execution_count": 80,
   "metadata": {},
   "outputs": [
    {
     "data": {
      "text/plain": [
       "user_id          0.132236\n",
       "behavior_time    0.132236\n",
       "behavior_type    0.132236\n",
       "weekday          0.132236\n",
       "dtype: float64"
      ]
     },
     "execution_count": 80,
     "metadata": {},
     "output_type": "execute_result"
    }
   ],
   "source": [
    "behavior_type3_day6.count()/behavior_type3.count()"
   ]
  },
  {
   "cell_type": "code",
   "execution_count": 82,
   "metadata": {
    "collapsed": true
   },
   "outputs": [],
   "source": [
    "user_behavior_logs['month'] = user_behavior_logs['behavior_time'].dt.month"
   ]
  },
  {
   "cell_type": "code",
   "execution_count": 125,
   "metadata": {},
   "outputs": [
    {
     "data": {
      "text/html": [
       "<div>\n",
       "<style scoped>\n",
       "    .dataframe tbody tr th:only-of-type {\n",
       "        vertical-align: middle;\n",
       "    }\n",
       "\n",
       "    .dataframe tbody tr th {\n",
       "        vertical-align: top;\n",
       "    }\n",
       "\n",
       "    .dataframe thead th {\n",
       "        text-align: right;\n",
       "    }\n",
       "</style>\n",
       "<table border=\"1\" class=\"dataframe\">\n",
       "  <thead>\n",
       "    <tr style=\"text-align: right;\">\n",
       "      <th></th>\n",
       "      <th>user_id</th>\n",
       "      <th>behavior_time</th>\n",
       "      <th>behavior_type</th>\n",
       "      <th>weekday</th>\n",
       "      <th>month</th>\n",
       "    </tr>\n",
       "  </thead>\n",
       "  <tbody>\n",
       "    <tr>\n",
       "      <th>0</th>\n",
       "      <td>842439</td>\n",
       "      <td>2018-09-13 23:17:21</td>\n",
       "      <td>3</td>\n",
       "      <td>3</td>\n",
       "      <td>9</td>\n",
       "    </tr>\n",
       "    <tr>\n",
       "      <th>1</th>\n",
       "      <td>842439</td>\n",
       "      <td>2018-09-13 23:17:21</td>\n",
       "      <td>3</td>\n",
       "      <td>3</td>\n",
       "      <td>9</td>\n",
       "    </tr>\n",
       "    <tr>\n",
       "      <th>2</th>\n",
       "      <td>905214</td>\n",
       "      <td>2018-09-13 15:19:30</td>\n",
       "      <td>3</td>\n",
       "      <td>3</td>\n",
       "      <td>9</td>\n",
       "    </tr>\n",
       "    <tr>\n",
       "      <th>3</th>\n",
       "      <td>905214</td>\n",
       "      <td>2018-09-13 15:19:30</td>\n",
       "      <td>3</td>\n",
       "      <td>3</td>\n",
       "      <td>9</td>\n",
       "    </tr>\n",
       "    <tr>\n",
       "      <th>4</th>\n",
       "      <td>842439</td>\n",
       "      <td>2018-09-13 23:17:21</td>\n",
       "      <td>3</td>\n",
       "      <td>3</td>\n",
       "      <td>9</td>\n",
       "    </tr>\n",
       "  </tbody>\n",
       "</table>\n",
       "</div>"
      ],
      "text/plain": [
       "   user_id       behavior_time  behavior_type  weekday  month\n",
       "0   842439 2018-09-13 23:17:21              3        3      9\n",
       "1   842439 2018-09-13 23:17:21              3        3      9\n",
       "2   905214 2018-09-13 15:19:30              3        3      9\n",
       "3   905214 2018-09-13 15:19:30              3        3      9\n",
       "4   842439 2018-09-13 23:17:21              3        3      9"
      ]
     },
     "execution_count": 125,
     "metadata": {},
     "output_type": "execute_result"
    }
   ],
   "source": [
    "user_behavior_logs.head()"
   ]
  },
  {
   "cell_type": "code",
   "execution_count": 84,
   "metadata": {
    "collapsed": true
   },
   "outputs": [],
   "source": [
    "behavior_type1=user_behavior_logs.loc[user_behavior_logs['behavior_type'] == 1]"
   ]
  },
  {
   "cell_type": "code",
   "execution_count": 85,
   "metadata": {
    "collapsed": true
   },
   "outputs": [],
   "source": [
    "behavior_type2=user_behavior_logs.loc[user_behavior_logs['behavior_type'] == 2]"
   ]
  },
  {
   "cell_type": "code",
   "execution_count": 86,
   "metadata": {
    "collapsed": true
   },
   "outputs": [],
   "source": [
    "behavior_type3=user_behavior_logs.loc[user_behavior_logs['behavior_type'] == 3]"
   ]
  },
  {
   "cell_type": "code",
   "execution_count": 119,
   "metadata": {},
   "outputs": [
    {
     "data": {
      "text/plain": [
       "count    1.007660e+06\n",
       "mean     6.370068e+00\n",
       "std      3.701438e+00\n",
       "min      1.000000e+00\n",
       "25%      3.000000e+00\n",
       "50%      6.000000e+00\n",
       "75%      1.000000e+01\n",
       "max      1.200000e+01\n",
       "Name: month, dtype: float64"
      ]
     },
     "execution_count": 119,
     "metadata": {},
     "output_type": "execute_result"
    }
   ],
   "source": [
    "behavior_type2['month'].describe()"
   ]
  },
  {
   "cell_type": "code",
   "execution_count": 112,
   "metadata": {
    "collapsed": true
   },
   "outputs": [],
   "source": [
    "freq=[0]*12\n",
    "for i in range(12):\n",
    "    freq[i]=(behavior_type1.loc[behavior_type1['month'] == i+1].count()/behavior_type1.count())['user_id']"
   ]
  },
  {
   "cell_type": "code",
   "execution_count": 118,
   "metadata": {},
   "outputs": [
    {
     "data": {
      "text/plain": [
       "<matplotlib.collections.PathCollection at 0x1a6d9bdbe0>"
      ]
     },
     "execution_count": 118,
     "metadata": {},
     "output_type": "execute_result"
    },
    {
     "data": {
      "image/png": "[encoded data removed]",
      "text/plain": [
       "<Figure size 432x288 with 1 Axes>"
      ]
     },
     "metadata": {
      "needs_background": "light"
     },
     "output_type": "display_data"
    }
   ],
   "source": [
    "freq_type1=freq\n",
    "month=[i for i in range(1,13)]\n",
    "plt.scatter(month,freq_type1)"
   ]
  },
  {
   "cell_type": "code",
   "execution_count": 121,
   "metadata": {
    "collapsed": true
   },
   "outputs": [],
   "source": [
    "freq_type2=[0]*12\n",
    "for i in range(12):\n",
    "    freq_type2[i]=(behavior_type2.loc[behavior_type2['month'] == i+1].count()/behavior_type2.count())['user_id']"
   ]
  },
  {
   "cell_type": "code",
   "execution_count": 122,
   "metadata": {
    "collapsed": true
   },
   "outputs": [],
   "source": [
    "freq_type3=[0]*12\n",
    "for i in range(12):\n",
    "    freq_type3[i]=(behavior_type3.loc[behavior_type3['month'] == i+1].count()/behavior_type3.count())['user_id']"
   ]
  },
  {
   "cell_type": "code",
   "execution_count": 124,
   "metadata": {},
   "outputs": [
    {
     "data": {
      "text/plain": [
       "<matplotlib.collections.PathCollection at 0x1a6d372358>"
      ]
     },
     "execution_count": 124,
     "metadata": {},
     "output_type": "execute_result"
    },
    {
     "data": {
      "image/png": "[encoded data removed]",
      "text/plain": [
       "<Figure size 432x288 with 1 Axes>"
      ]
     },
     "metadata": {
      "needs_background": "light"
     },
     "output_type": "display_data"
    }
   ],
   "source": [
    "plt.scatter(month,freq_type1)\n",
    "plt.scatter(month,freq_type2)\n",
    "plt.scatter(month,freq_type3)"
   ]
  },
  {
   "cell_type": "code",
   "execution_count": 95,
   "metadata": {},
   "outputs": [
    {
     "data": {
      "text/plain": [
       "user_id          0.069331\n",
       "behavior_time    0.069331\n",
       "behavior_type    0.069331\n",
       "weekday          0.069331\n",
       "month            0.069331\n",
       "dtype: float64"
      ]
     },
     "execution_count": 95,
     "metadata": {},
     "output_type": "execute_result"
    }
   ],
   "source": [
    "behavior_type1.loc[behavior_type1['month'] == 8].count()/behavior_type1.count()"
   ]
  },
  {
   "cell_type": "code",
   "execution_count": 126,
   "metadata": {
    "collapsed": true
   },
   "outputs": [],
   "source": [
    "user_behavior_logs['year'] = user_behavior_logs['behavior_time'].dt.year"
   ]
  },
  {
   "cell_type": "code",
   "execution_count": 128,
   "metadata": {},
   "outputs": [
    {
     "data": {
      "text/plain": [
       "count    5.578127e+07\n",
       "mean     2.017903e+03\n",
       "std      4.335261e-01\n",
       "min      2.017000e+03\n",
       "25%      2.018000e+03\n",
       "50%      2.018000e+03\n",
       "75%      2.018000e+03\n",
       "max      2.019000e+03\n",
       "Name: year, dtype: float64"
      ]
     },
     "execution_count": 128,
     "metadata": {},
     "output_type": "execute_result"
    }
   ],
   "source": [
    "user_behavior_logs['year'].describe()"
   ]
  },
  {
   "cell_type": "code",
   "execution_count": 129,
   "metadata": {
    "collapsed": true
   },
   "outputs": [],
   "source": [
    "behavior_2017=user_behavior_logs.loc[user_behavior_logs['year'] == 2017]"
   ]
  },
  {
   "cell_type": "code",
   "execution_count": 130,
   "metadata": {
    "collapsed": true
   },
   "outputs": [],
   "source": [
    "behavior_2018=user_behavior_logs.loc[user_behavior_logs['year'] == 2018]"
   ]
  },
  {
   "cell_type": "code",
   "execution_count": 131,
   "metadata": {
    "collapsed": true
   },
   "outputs": [],
   "source": [
    "behavior_2019=user_behavior_logs.loc[user_behavior_logs['year'] == 2019]"
   ]
  },
  {
   "cell_type": "code",
   "execution_count": 132,
   "metadata": {},
   "outputs": [
    {
     "data": {
      "text/html": [
       "<div>\n",
       "<style scoped>\n",
       "    .dataframe tbody tr th:only-of-type {\n",
       "        vertical-align: middle;\n",
       "    }\n",
       "\n",
       "    .dataframe tbody tr th {\n",
       "        vertical-align: top;\n",
       "    }\n",
       "\n",
       "    .dataframe thead th {\n",
       "        text-align: right;\n",
       "    }\n",
       "</style>\n",
       "<table border=\"1\" class=\"dataframe\">\n",
       "  <thead>\n",
       "    <tr style=\"text-align: right;\">\n",
       "      <th></th>\n",
       "      <th>user_id</th>\n",
       "      <th>behavior_type</th>\n",
       "      <th>weekday</th>\n",
       "      <th>month</th>\n",
       "      <th>year</th>\n",
       "    </tr>\n",
       "  </thead>\n",
       "  <tbody>\n",
       "    <tr>\n",
       "      <th>count</th>\n",
       "      <td>8.193881e+06</td>\n",
       "      <td>8.193881e+06</td>\n",
       "      <td>8.193881e+06</td>\n",
       "      <td>8.193881e+06</td>\n",
       "      <td>8193881.0</td>\n",
       "    </tr>\n",
       "    <tr>\n",
       "      <th>mean</th>\n",
       "      <td>3.919092e+05</td>\n",
       "      <td>1.390536e+00</td>\n",
       "      <td>2.970923e+00</td>\n",
       "      <td>1.087355e+01</td>\n",
       "      <td>2017.0</td>\n",
       "    </tr>\n",
       "    <tr>\n",
       "      <th>std</th>\n",
       "      <td>2.235440e+05</td>\n",
       "      <td>7.723778e-01</td>\n",
       "      <td>1.954270e+00</td>\n",
       "      <td>1.217187e+00</td>\n",
       "      <td>0.0</td>\n",
       "    </tr>\n",
       "    <tr>\n",
       "      <th>min</th>\n",
       "      <td>3.000000e+00</td>\n",
       "      <td>1.000000e+00</td>\n",
       "      <td>0.000000e+00</td>\n",
       "      <td>7.000000e+00</td>\n",
       "      <td>2017.0</td>\n",
       "    </tr>\n",
       "    <tr>\n",
       "      <th>25%</th>\n",
       "      <td>1.978880e+05</td>\n",
       "      <td>1.000000e+00</td>\n",
       "      <td>1.000000e+00</td>\n",
       "      <td>1.000000e+01</td>\n",
       "      <td>2017.0</td>\n",
       "    </tr>\n",
       "    <tr>\n",
       "      <th>50%</th>\n",
       "      <td>3.915830e+05</td>\n",
       "      <td>1.000000e+00</td>\n",
       "      <td>3.000000e+00</td>\n",
       "      <td>1.100000e+01</td>\n",
       "      <td>2017.0</td>\n",
       "    </tr>\n",
       "    <tr>\n",
       "      <th>75%</th>\n",
       "      <td>5.955800e+05</td>\n",
       "      <td>1.000000e+00</td>\n",
       "      <td>5.000000e+00</td>\n",
       "      <td>1.200000e+01</td>\n",
       "      <td>2017.0</td>\n",
       "    </tr>\n",
       "    <tr>\n",
       "      <th>max</th>\n",
       "      <td>7.655730e+05</td>\n",
       "      <td>3.000000e+00</td>\n",
       "      <td>6.000000e+00</td>\n",
       "      <td>1.200000e+01</td>\n",
       "      <td>2017.0</td>\n",
       "    </tr>\n",
       "  </tbody>\n",
       "</table>\n",
       "</div>"
      ],
      "text/plain": [
       "            user_id  behavior_type       weekday         month       year\n",
       "count  8.193881e+06   8.193881e+06  8.193881e+06  8.193881e+06  8193881.0\n",
       "mean   3.919092e+05   1.390536e+00  2.970923e+00  1.087355e+01     2017.0\n",
       "std    2.235440e+05   7.723778e-01  1.954270e+00  1.217187e+00        0.0\n",
       "min    3.000000e+00   1.000000e+00  0.000000e+00  7.000000e+00     2017.0\n",
       "25%    1.978880e+05   1.000000e+00  1.000000e+00  1.000000e+01     2017.0\n",
       "50%    3.915830e+05   1.000000e+00  3.000000e+00  1.100000e+01     2017.0\n",
       "75%    5.955800e+05   1.000000e+00  5.000000e+00  1.200000e+01     2017.0\n",
       "max    7.655730e+05   3.000000e+00  6.000000e+00  1.200000e+01     2017.0"
      ]
     },
     "execution_count": 132,
     "metadata": {},
     "output_type": "execute_result"
    }
   ],
   "source": [
    "behavior_2017.describe()"
   ]
  },
  {
   "cell_type": "code",
   "execution_count": 133,
   "metadata": {},
   "outputs": [
    {
     "data": {
      "text/html": [
       "<div>\n",
       "<style scoped>\n",
       "    .dataframe tbody tr th:only-of-type {\n",
       "        vertical-align: middle;\n",
       "    }\n",
       "\n",
       "    .dataframe tbody tr th {\n",
       "        vertical-align: top;\n",
       "    }\n",
       "\n",
       "    .dataframe thead th {\n",
       "        text-align: right;\n",
       "    }\n",
       "</style>\n",
       "<table border=\"1\" class=\"dataframe\">\n",
       "  <thead>\n",
       "    <tr style=\"text-align: right;\">\n",
       "      <th></th>\n",
       "      <th>user_id</th>\n",
       "      <th>behavior_type</th>\n",
       "      <th>weekday</th>\n",
       "      <th>month</th>\n",
       "      <th>year</th>\n",
       "    </tr>\n",
       "  </thead>\n",
       "  <tbody>\n",
       "    <tr>\n",
       "      <th>count</th>\n",
       "      <td>4.477776e+07</td>\n",
       "      <td>4.477776e+07</td>\n",
       "      <td>4.477776e+07</td>\n",
       "      <td>4.477776e+07</td>\n",
       "      <td>44777757.0</td>\n",
       "    </tr>\n",
       "    <tr>\n",
       "      <th>mean</th>\n",
       "      <td>4.519221e+05</td>\n",
       "      <td>1.432041e+00</td>\n",
       "      <td>2.924026e+00</td>\n",
       "      <td>5.695802e+00</td>\n",
       "      <td>2018.0</td>\n",
       "    </tr>\n",
       "    <tr>\n",
       "      <th>std</th>\n",
       "      <td>2.662849e+05</td>\n",
       "      <td>8.131624e-01</td>\n",
       "      <td>1.988729e+00</td>\n",
       "      <td>3.035415e+00</td>\n",
       "      <td>0.0</td>\n",
       "    </tr>\n",
       "    <tr>\n",
       "      <th>min</th>\n",
       "      <td>1.000000e+00</td>\n",
       "      <td>1.000000e+00</td>\n",
       "      <td>0.000000e+00</td>\n",
       "      <td>1.000000e+00</td>\n",
       "      <td>2018.0</td>\n",
       "    </tr>\n",
       "    <tr>\n",
       "      <th>25%</th>\n",
       "      <td>2.207830e+05</td>\n",
       "      <td>1.000000e+00</td>\n",
       "      <td>1.000000e+00</td>\n",
       "      <td>3.000000e+00</td>\n",
       "      <td>2018.0</td>\n",
       "    </tr>\n",
       "    <tr>\n",
       "      <th>50%</th>\n",
       "      <td>4.449360e+05</td>\n",
       "      <td>1.000000e+00</td>\n",
       "      <td>3.000000e+00</td>\n",
       "      <td>5.000000e+00</td>\n",
       "      <td>2018.0</td>\n",
       "    </tr>\n",
       "    <tr>\n",
       "      <th>75%</th>\n",
       "      <td>6.864100e+05</td>\n",
       "      <td>1.000000e+00</td>\n",
       "      <td>5.000000e+00</td>\n",
       "      <td>8.000000e+00</td>\n",
       "      <td>2018.0</td>\n",
       "    </tr>\n",
       "    <tr>\n",
       "      <th>max</th>\n",
       "      <td>9.245430e+05</td>\n",
       "      <td>3.000000e+00</td>\n",
       "      <td>6.000000e+00</td>\n",
       "      <td>1.200000e+01</td>\n",
       "      <td>2018.0</td>\n",
       "    </tr>\n",
       "  </tbody>\n",
       "</table>\n",
       "</div>"
      ],
      "text/plain": [
       "            user_id  behavior_type       weekday         month        year\n",
       "count  4.477776e+07   4.477776e+07  4.477776e+07  4.477776e+07  44777757.0\n",
       "mean   4.519221e+05   1.432041e+00  2.924026e+00  5.695802e+00      2018.0\n",
       "std    2.662849e+05   8.131624e-01  1.988729e+00  3.035415e+00         0.0\n",
       "min    1.000000e+00   1.000000e+00  0.000000e+00  1.000000e+00      2018.0\n",
       "25%    2.207830e+05   1.000000e+00  1.000000e+00  3.000000e+00      2018.0\n",
       "50%    4.449360e+05   1.000000e+00  3.000000e+00  5.000000e+00      2018.0\n",
       "75%    6.864100e+05   1.000000e+00  5.000000e+00  8.000000e+00      2018.0\n",
       "max    9.245430e+05   3.000000e+00  6.000000e+00  1.200000e+01      2018.0"
      ]
     },
     "execution_count": 133,
     "metadata": {},
     "output_type": "execute_result"
    }
   ],
   "source": [
    "behavior_2018.describe()"
   ]
  },
  {
   "cell_type": "code",
   "execution_count": 134,
   "metadata": {},
   "outputs": [
    {
     "data": {
      "text/html": [
       "<div>\n",
       "<style scoped>\n",
       "    .dataframe tbody tr th:only-of-type {\n",
       "        vertical-align: middle;\n",
       "    }\n",
       "\n",
       "    .dataframe tbody tr th {\n",
       "        vertical-align: top;\n",
       "    }\n",
       "\n",
       "    .dataframe thead th {\n",
       "        text-align: right;\n",
       "    }\n",
       "</style>\n",
       "<table border=\"1\" class=\"dataframe\">\n",
       "  <thead>\n",
       "    <tr style=\"text-align: right;\">\n",
       "      <th></th>\n",
       "      <th>user_id</th>\n",
       "      <th>behavior_type</th>\n",
       "      <th>weekday</th>\n",
       "      <th>month</th>\n",
       "      <th>year</th>\n",
       "    </tr>\n",
       "  </thead>\n",
       "  <tbody>\n",
       "    <tr>\n",
       "      <th>count</th>\n",
       "      <td>2.809633e+06</td>\n",
       "      <td>2.809633e+06</td>\n",
       "      <td>2.809633e+06</td>\n",
       "      <td>2.809633e+06</td>\n",
       "      <td>2809633.0</td>\n",
       "    </tr>\n",
       "    <tr>\n",
       "      <th>mean</th>\n",
       "      <td>5.425311e+05</td>\n",
       "      <td>1.380539e+00</td>\n",
       "      <td>2.951793e+00</td>\n",
       "      <td>1.726243e+00</td>\n",
       "      <td>2019.0</td>\n",
       "    </tr>\n",
       "    <tr>\n",
       "      <th>std</th>\n",
       "      <td>3.002862e+05</td>\n",
       "      <td>7.803376e-01</td>\n",
       "      <td>1.972568e+00</td>\n",
       "      <td>7.328130e-01</td>\n",
       "      <td>0.0</td>\n",
       "    </tr>\n",
       "    <tr>\n",
       "      <th>min</th>\n",
       "      <td>5.000000e+00</td>\n",
       "      <td>1.000000e+00</td>\n",
       "      <td>0.000000e+00</td>\n",
       "      <td>1.000000e+00</td>\n",
       "      <td>2019.0</td>\n",
       "    </tr>\n",
       "    <tr>\n",
       "      <th>25%</th>\n",
       "      <td>2.699280e+05</td>\n",
       "      <td>1.000000e+00</td>\n",
       "      <td>1.000000e+00</td>\n",
       "      <td>1.000000e+00</td>\n",
       "      <td>2019.0</td>\n",
       "    </tr>\n",
       "    <tr>\n",
       "      <th>50%</th>\n",
       "      <td>5.763110e+05</td>\n",
       "      <td>1.000000e+00</td>\n",
       "      <td>3.000000e+00</td>\n",
       "      <td>2.000000e+00</td>\n",
       "      <td>2019.0</td>\n",
       "    </tr>\n",
       "    <tr>\n",
       "      <th>75%</th>\n",
       "      <td>8.352780e+05</td>\n",
       "      <td>1.000000e+00</td>\n",
       "      <td>5.000000e+00</td>\n",
       "      <td>2.000000e+00</td>\n",
       "      <td>2019.0</td>\n",
       "    </tr>\n",
       "    <tr>\n",
       "      <th>max</th>\n",
       "      <td>9.281950e+05</td>\n",
       "      <td>3.000000e+00</td>\n",
       "      <td>6.000000e+00</td>\n",
       "      <td>3.000000e+00</td>\n",
       "      <td>2019.0</td>\n",
       "    </tr>\n",
       "  </tbody>\n",
       "</table>\n",
       "</div>"
      ],
      "text/plain": [
       "            user_id  behavior_type       weekday         month       year\n",
       "count  2.809633e+06   2.809633e+06  2.809633e+06  2.809633e+06  2809633.0\n",
       "mean   5.425311e+05   1.380539e+00  2.951793e+00  1.726243e+00     2019.0\n",
       "std    3.002862e+05   7.803376e-01  1.972568e+00  7.328130e-01        0.0\n",
       "min    5.000000e+00   1.000000e+00  0.000000e+00  1.000000e+00     2019.0\n",
       "25%    2.699280e+05   1.000000e+00  1.000000e+00  1.000000e+00     2019.0\n",
       "50%    5.763110e+05   1.000000e+00  3.000000e+00  2.000000e+00     2019.0\n",
       "75%    8.352780e+05   1.000000e+00  5.000000e+00  2.000000e+00     2019.0\n",
       "max    9.281950e+05   3.000000e+00  6.000000e+00  3.000000e+00     2019.0"
      ]
     },
     "execution_count": 134,
     "metadata": {},
     "output_type": "execute_result"
    }
   ],
   "source": [
    "behavior_2019.describe()"
   ]
  },
  {
   "cell_type": "code",
   "execution_count": null,
   "metadata": {
    "collapsed": true
   },
   "outputs": [],
   "source": []
  }
 ],
 "metadata": {
  "kernelspec": {
   "display_name": "Python 3",
   "language": "python",
   "name": "python3"
  },
  "language_info": {
   "codemirror_mode": {
    "name": "ipython",
    "version": 3
   },
   "file_extension": ".py",
   "mimetype": "text/x-python",
   "name": "python",
   "nbconvert_exporter": "python",
   "pygments_lexer": "ipython3",
   "version": "3.6.1"
  }
 },
 "nbformat": 4,
 "nbformat_minor": 2
}
